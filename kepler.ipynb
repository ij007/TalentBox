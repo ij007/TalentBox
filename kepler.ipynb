{
  "nbformat": 4,
  "nbformat_minor": 0,
  "metadata": {
    "colab": {
      "provenance": []
    },
    "kernelspec": {
      "name": "python3",
      "display_name": "Python 3"
    },
    "language_info": {
      "name": "python"
    }
  },
  "cells": [
    {
      "cell_type": "markdown",
      "source": [
        "# importing libraries"
      ],
      "metadata": {
        "id": "OI4pAcer0EPF"
      }
    },
    {
      "cell_type": "code",
      "execution_count": 2,
      "metadata": {
        "id": "0TV9CVhq-DBd"
      },
      "outputs": [],
      "source": [
        "import pandas as pd\n",
        "import numpy as np\n",
        "import seaborn as sns\n",
        "import matplotlib.pyplot as plt\n",
        "\n",
        "%matplotlib inline\n",
        "np.random.seed(42)"
      ]
    },
    {
      "cell_type": "markdown",
      "source": [
        "# Data Analysis & Preprocessing"
      ],
      "metadata": {
        "id": "_QJEBnD60IFI"
      }
    },
    {
      "cell_type": "code",
      "source": [
        "df = pd.read_csv('kepler_data.csv', encoding='latin-1')\n",
        "\n",
        "df.head()"
      ],
      "metadata": {
        "colab": {
          "base_uri": "https://localhost:8080/",
          "height": 299
        },
        "id": "w6NUuYCV5eFT",
        "outputId": "5e5b15be-0ff7-4c6e-cace-bb7b0e73bdc4"
      },
      "execution_count": 6,
      "outputs": [
        {
          "output_type": "execute_result",
          "data": {
            "text/plain": [
              "   ï»¿kepid kepoi_name   kepler_name koi_disposition koi_pdisposition  \\\n",
              "0  10797460  K00752.01  Kepler-227 b       CONFIRMED        CANDIDATE   \n",
              "1  10797460  K00752.02  Kepler-227 c       CONFIRMED        CANDIDATE   \n",
              "2  10811496  K00753.01           NaN       CANDIDATE        CANDIDATE   \n",
              "3  10848459  K00754.01           NaN  FALSE POSITIVE   FALSE POSITIVE   \n",
              "4  10854555  K00755.01  Kepler-664 b       CONFIRMED        CANDIDATE   \n",
              "\n",
              "   koi_score  koi_fpflag_nt  koi_fpflag_ss  koi_fpflag_co  koi_fpflag_ec  ...  \\\n",
              "0      1.000              0              0              0              0  ...   \n",
              "1      0.969              0              0              0              0  ...   \n",
              "2      0.000              0              0              0              0  ...   \n",
              "3      0.000              0              1              0              0  ...   \n",
              "4      1.000              0              0              0              0  ...   \n",
              "\n",
              "   koi_steff_err2  koi_slogg  koi_slogg_err1  koi_slogg_err2  koi_srad  \\\n",
              "0           -81.0      4.467           0.064          -0.096     0.927   \n",
              "1           -81.0      4.467           0.064          -0.096     0.927   \n",
              "2          -176.0      4.544           0.044          -0.176     0.868   \n",
              "3          -174.0      4.564           0.053          -0.168     0.791   \n",
              "4          -211.0      4.438           0.070          -0.210     1.046   \n",
              "\n",
              "   koi_srad_err1  koi_srad_err2         ra        dec  koi_kepmag  \n",
              "0          0.105         -0.061  291.93423  48.141651      15.347  \n",
              "1          0.105         -0.061  291.93423  48.141651      15.347  \n",
              "2          0.233         -0.078  297.00482  48.134129      15.436  \n",
              "3          0.201         -0.067  285.53461  48.285210      15.597  \n",
              "4          0.334         -0.133  288.75488  48.226200      15.509  \n",
              "\n",
              "[5 rows x 49 columns]"
            ],
            "text/html": [
              "\n",
              "  <div id=\"df-01f64e79-4683-47c0-b272-49ce91324f2e\">\n",
              "    <div class=\"colab-df-container\">\n",
              "      <div>\n",
              "<style scoped>\n",
              "    .dataframe tbody tr th:only-of-type {\n",
              "        vertical-align: middle;\n",
              "    }\n",
              "\n",
              "    .dataframe tbody tr th {\n",
              "        vertical-align: top;\n",
              "    }\n",
              "\n",
              "    .dataframe thead th {\n",
              "        text-align: right;\n",
              "    }\n",
              "</style>\n",
              "<table border=\"1\" class=\"dataframe\">\n",
              "  <thead>\n",
              "    <tr style=\"text-align: right;\">\n",
              "      <th></th>\n",
              "      <th>ï»¿kepid</th>\n",
              "      <th>kepoi_name</th>\n",
              "      <th>kepler_name</th>\n",
              "      <th>koi_disposition</th>\n",
              "      <th>koi_pdisposition</th>\n",
              "      <th>koi_score</th>\n",
              "      <th>koi_fpflag_nt</th>\n",
              "      <th>koi_fpflag_ss</th>\n",
              "      <th>koi_fpflag_co</th>\n",
              "      <th>koi_fpflag_ec</th>\n",
              "      <th>...</th>\n",
              "      <th>koi_steff_err2</th>\n",
              "      <th>koi_slogg</th>\n",
              "      <th>koi_slogg_err1</th>\n",
              "      <th>koi_slogg_err2</th>\n",
              "      <th>koi_srad</th>\n",
              "      <th>koi_srad_err1</th>\n",
              "      <th>koi_srad_err2</th>\n",
              "      <th>ra</th>\n",
              "      <th>dec</th>\n",
              "      <th>koi_kepmag</th>\n",
              "    </tr>\n",
              "  </thead>\n",
              "  <tbody>\n",
              "    <tr>\n",
              "      <th>0</th>\n",
              "      <td>10797460</td>\n",
              "      <td>K00752.01</td>\n",
              "      <td>Kepler-227 b</td>\n",
              "      <td>CONFIRMED</td>\n",
              "      <td>CANDIDATE</td>\n",
              "      <td>1.000</td>\n",
              "      <td>0</td>\n",
              "      <td>0</td>\n",
              "      <td>0</td>\n",
              "      <td>0</td>\n",
              "      <td>...</td>\n",
              "      <td>-81.0</td>\n",
              "      <td>4.467</td>\n",
              "      <td>0.064</td>\n",
              "      <td>-0.096</td>\n",
              "      <td>0.927</td>\n",
              "      <td>0.105</td>\n",
              "      <td>-0.061</td>\n",
              "      <td>291.93423</td>\n",
              "      <td>48.141651</td>\n",
              "      <td>15.347</td>\n",
              "    </tr>\n",
              "    <tr>\n",
              "      <th>1</th>\n",
              "      <td>10797460</td>\n",
              "      <td>K00752.02</td>\n",
              "      <td>Kepler-227 c</td>\n",
              "      <td>CONFIRMED</td>\n",
              "      <td>CANDIDATE</td>\n",
              "      <td>0.969</td>\n",
              "      <td>0</td>\n",
              "      <td>0</td>\n",
              "      <td>0</td>\n",
              "      <td>0</td>\n",
              "      <td>...</td>\n",
              "      <td>-81.0</td>\n",
              "      <td>4.467</td>\n",
              "      <td>0.064</td>\n",
              "      <td>-0.096</td>\n",
              "      <td>0.927</td>\n",
              "      <td>0.105</td>\n",
              "      <td>-0.061</td>\n",
              "      <td>291.93423</td>\n",
              "      <td>48.141651</td>\n",
              "      <td>15.347</td>\n",
              "    </tr>\n",
              "    <tr>\n",
              "      <th>2</th>\n",
              "      <td>10811496</td>\n",
              "      <td>K00753.01</td>\n",
              "      <td>NaN</td>\n",
              "      <td>CANDIDATE</td>\n",
              "      <td>CANDIDATE</td>\n",
              "      <td>0.000</td>\n",
              "      <td>0</td>\n",
              "      <td>0</td>\n",
              "      <td>0</td>\n",
              "      <td>0</td>\n",
              "      <td>...</td>\n",
              "      <td>-176.0</td>\n",
              "      <td>4.544</td>\n",
              "      <td>0.044</td>\n",
              "      <td>-0.176</td>\n",
              "      <td>0.868</td>\n",
              "      <td>0.233</td>\n",
              "      <td>-0.078</td>\n",
              "      <td>297.00482</td>\n",
              "      <td>48.134129</td>\n",
              "      <td>15.436</td>\n",
              "    </tr>\n",
              "    <tr>\n",
              "      <th>3</th>\n",
              "      <td>10848459</td>\n",
              "      <td>K00754.01</td>\n",
              "      <td>NaN</td>\n",
              "      <td>FALSE POSITIVE</td>\n",
              "      <td>FALSE POSITIVE</td>\n",
              "      <td>0.000</td>\n",
              "      <td>0</td>\n",
              "      <td>1</td>\n",
              "      <td>0</td>\n",
              "      <td>0</td>\n",
              "      <td>...</td>\n",
              "      <td>-174.0</td>\n",
              "      <td>4.564</td>\n",
              "      <td>0.053</td>\n",
              "      <td>-0.168</td>\n",
              "      <td>0.791</td>\n",
              "      <td>0.201</td>\n",
              "      <td>-0.067</td>\n",
              "      <td>285.53461</td>\n",
              "      <td>48.285210</td>\n",
              "      <td>15.597</td>\n",
              "    </tr>\n",
              "    <tr>\n",
              "      <th>4</th>\n",
              "      <td>10854555</td>\n",
              "      <td>K00755.01</td>\n",
              "      <td>Kepler-664 b</td>\n",
              "      <td>CONFIRMED</td>\n",
              "      <td>CANDIDATE</td>\n",
              "      <td>1.000</td>\n",
              "      <td>0</td>\n",
              "      <td>0</td>\n",
              "      <td>0</td>\n",
              "      <td>0</td>\n",
              "      <td>...</td>\n",
              "      <td>-211.0</td>\n",
              "      <td>4.438</td>\n",
              "      <td>0.070</td>\n",
              "      <td>-0.210</td>\n",
              "      <td>1.046</td>\n",
              "      <td>0.334</td>\n",
              "      <td>-0.133</td>\n",
              "      <td>288.75488</td>\n",
              "      <td>48.226200</td>\n",
              "      <td>15.509</td>\n",
              "    </tr>\n",
              "  </tbody>\n",
              "</table>\n",
              "<p>5 rows × 49 columns</p>\n",
              "</div>\n",
              "      <button class=\"colab-df-convert\" onclick=\"convertToInteractive('df-01f64e79-4683-47c0-b272-49ce91324f2e')\"\n",
              "              title=\"Convert this dataframe to an interactive table.\"\n",
              "              style=\"display:none;\">\n",
              "        \n",
              "  <svg xmlns=\"http://www.w3.org/2000/svg\" height=\"24px\"viewBox=\"0 0 24 24\"\n",
              "       width=\"24px\">\n",
              "    <path d=\"M0 0h24v24H0V0z\" fill=\"none\"/>\n",
              "    <path d=\"M18.56 5.44l.94 2.06.94-2.06 2.06-.94-2.06-.94-.94-2.06-.94 2.06-2.06.94zm-11 1L8.5 8.5l.94-2.06 2.06-.94-2.06-.94L8.5 2.5l-.94 2.06-2.06.94zm10 10l.94 2.06.94-2.06 2.06-.94-2.06-.94-.94-2.06-.94 2.06-2.06.94z\"/><path d=\"M17.41 7.96l-1.37-1.37c-.4-.4-.92-.59-1.43-.59-.52 0-1.04.2-1.43.59L10.3 9.45l-7.72 7.72c-.78.78-.78 2.05 0 2.83L4 21.41c.39.39.9.59 1.41.59.51 0 1.02-.2 1.41-.59l7.78-7.78 2.81-2.81c.8-.78.8-2.07 0-2.86zM5.41 20L4 18.59l7.72-7.72 1.47 1.35L5.41 20z\"/>\n",
              "  </svg>\n",
              "      </button>\n",
              "      \n",
              "  <style>\n",
              "    .colab-df-container {\n",
              "      display:flex;\n",
              "      flex-wrap:wrap;\n",
              "      gap: 12px;\n",
              "    }\n",
              "\n",
              "    .colab-df-convert {\n",
              "      background-color: #E8F0FE;\n",
              "      border: none;\n",
              "      border-radius: 50%;\n",
              "      cursor: pointer;\n",
              "      display: none;\n",
              "      fill: #1967D2;\n",
              "      height: 32px;\n",
              "      padding: 0 0 0 0;\n",
              "      width: 32px;\n",
              "    }\n",
              "\n",
              "    .colab-df-convert:hover {\n",
              "      background-color: #E2EBFA;\n",
              "      box-shadow: 0px 1px 2px rgba(60, 64, 67, 0.3), 0px 1px 3px 1px rgba(60, 64, 67, 0.15);\n",
              "      fill: #174EA6;\n",
              "    }\n",
              "\n",
              "    [theme=dark] .colab-df-convert {\n",
              "      background-color: #3B4455;\n",
              "      fill: #D2E3FC;\n",
              "    }\n",
              "\n",
              "    [theme=dark] .colab-df-convert:hover {\n",
              "      background-color: #434B5C;\n",
              "      box-shadow: 0px 1px 3px 1px rgba(0, 0, 0, 0.15);\n",
              "      filter: drop-shadow(0px 1px 2px rgba(0, 0, 0, 0.3));\n",
              "      fill: #FFFFFF;\n",
              "    }\n",
              "  </style>\n",
              "\n",
              "      <script>\n",
              "        const buttonEl =\n",
              "          document.querySelector('#df-01f64e79-4683-47c0-b272-49ce91324f2e button.colab-df-convert');\n",
              "        buttonEl.style.display =\n",
              "          google.colab.kernel.accessAllowed ? 'block' : 'none';\n",
              "\n",
              "        async function convertToInteractive(key) {\n",
              "          const element = document.querySelector('#df-01f64e79-4683-47c0-b272-49ce91324f2e');\n",
              "          const dataTable =\n",
              "            await google.colab.kernel.invokeFunction('convertToInteractive',\n",
              "                                                     [key], {});\n",
              "          if (!dataTable) return;\n",
              "\n",
              "          const docLinkHtml = 'Like what you see? Visit the ' +\n",
              "            '<a target=\"_blank\" href=https://colab.research.google.com/notebooks/data_table.ipynb>data table notebook</a>'\n",
              "            + ' to learn more about interactive tables.';\n",
              "          element.innerHTML = '';\n",
              "          dataTable['output_type'] = 'display_data';\n",
              "          await google.colab.output.renderOutput(dataTable, element);\n",
              "          const docLink = document.createElement('div');\n",
              "          docLink.innerHTML = docLinkHtml;\n",
              "          element.appendChild(docLink);\n",
              "        }\n",
              "      </script>\n",
              "    </div>\n",
              "  </div>\n",
              "  "
            ]
          },
          "metadata": {},
          "execution_count": 6
        }
      ]
    },
    {
      "cell_type": "markdown",
      "source": [
        "9564 rows"
      ],
      "metadata": {
        "id": "nFAJQ-Oh7HYH"
      }
    },
    {
      "cell_type": "code",
      "source": [
        "df.info()"
      ],
      "metadata": {
        "colab": {
          "base_uri": "https://localhost:8080/"
        },
        "id": "810sKXtU6JQH",
        "outputId": "473134d6-67c0-42f8-ff0f-ace56c76f558"
      },
      "execution_count": 7,
      "outputs": [
        {
          "output_type": "stream",
          "name": "stdout",
          "text": [
            "<class 'pandas.core.frame.DataFrame'>\n",
            "RangeIndex: 9564 entries, 0 to 9563\n",
            "Data columns (total 49 columns):\n",
            " #   Column             Non-Null Count  Dtype  \n",
            "---  ------             --------------  -----  \n",
            " 0   ï»¿kepid           9564 non-null   int64  \n",
            " 1   kepoi_name         9564 non-null   object \n",
            " 2   kepler_name        2360 non-null   object \n",
            " 3   koi_disposition    9564 non-null   object \n",
            " 4   koi_pdisposition   9564 non-null   object \n",
            " 5   koi_score          8054 non-null   float64\n",
            " 6   koi_fpflag_nt      9564 non-null   int64  \n",
            " 7   koi_fpflag_ss      9564 non-null   int64  \n",
            " 8   koi_fpflag_co      9564 non-null   int64  \n",
            " 9   koi_fpflag_ec      9564 non-null   int64  \n",
            " 10  koi_period         9564 non-null   float64\n",
            " 11  koi_period_err1    9110 non-null   float64\n",
            " 12  koi_period_err2    9110 non-null   float64\n",
            " 13  koi_time0bk        9564 non-null   float64\n",
            " 14  koi_time0bk_err1   9110 non-null   float64\n",
            " 15  koi_time0bk_err2   9110 non-null   float64\n",
            " 16  koi_impact         9201 non-null   float64\n",
            " 17  koi_impact_err1    9110 non-null   float64\n",
            " 18  koi_impact_err2    9110 non-null   float64\n",
            " 19  koi_duration       9564 non-null   float64\n",
            " 20  koi_duration_err1  9110 non-null   float64\n",
            " 21  koi_duration_err2  9110 non-null   float64\n",
            " 22  koi_depth          9201 non-null   float64\n",
            " 23  koi_depth_err1     9110 non-null   float64\n",
            " 24  koi_depth_err2     9110 non-null   float64\n",
            " 25  koi_prad           9201 non-null   float64\n",
            " 26  koi_prad_err1      9201 non-null   float64\n",
            " 27  koi_prad_err2      9201 non-null   float64\n",
            " 28  koi_teq            9201 non-null   float64\n",
            " 29  koi_teq_err1       0 non-null      float64\n",
            " 30  koi_teq_err2       0 non-null      float64\n",
            " 31  koi_insol          9243 non-null   float64\n",
            " 32  koi_insol_err1     9243 non-null   float64\n",
            " 33  koi_insol_err2     9243 non-null   float64\n",
            " 34  koi_model_snr      9201 non-null   float64\n",
            " 35  koi_tce_plnt_num   9218 non-null   float64\n",
            " 36  koi_tce_delivname  9218 non-null   object \n",
            " 37  koi_steff          9201 non-null   float64\n",
            " 38  koi_steff_err1     9096 non-null   float64\n",
            " 39  koi_steff_err2     9081 non-null   float64\n",
            " 40  koi_slogg          9201 non-null   float64\n",
            " 41  koi_slogg_err1     9096 non-null   float64\n",
            " 42  koi_slogg_err2     9096 non-null   float64\n",
            " 43  koi_srad           9201 non-null   float64\n",
            " 44  koi_srad_err1      9096 non-null   float64\n",
            " 45  koi_srad_err2      9096 non-null   float64\n",
            " 46  ra                 9564 non-null   float64\n",
            " 47  dec                9564 non-null   float64\n",
            " 48  koi_kepmag         9563 non-null   float64\n",
            "dtypes: float64(39), int64(5), object(5)\n",
            "memory usage: 3.6+ MB\n"
          ]
        }
      ]
    },
    {
      "cell_type": "code",
      "source": [
        "df.isnull().sum()"
      ],
      "metadata": {
        "colab": {
          "base_uri": "https://localhost:8080/"
        },
        "id": "TSDIjmCq7BBV",
        "outputId": "3315411d-2dd3-4e3e-9961-152f82ff6337"
      },
      "execution_count": 22,
      "outputs": [
        {
          "output_type": "execute_result",
          "data": {
            "text/plain": [
              "koi_disposition        0\n",
              "koi_pdisposition       0\n",
              "koi_score              0\n",
              "koi_fpflag_nt          0\n",
              "koi_fpflag_ss          0\n",
              "koi_fpflag_co          0\n",
              "koi_fpflag_ec          0\n",
              "koi_period             0\n",
              "koi_period_err1        0\n",
              "koi_period_err2        0\n",
              "koi_time0bk            0\n",
              "koi_time0bk_err1       0\n",
              "koi_time0bk_err2       0\n",
              "koi_impact             0\n",
              "koi_impact_err1        0\n",
              "koi_impact_err2        0\n",
              "koi_duration           0\n",
              "koi_duration_err1      0\n",
              "koi_duration_err2      0\n",
              "koi_depth              0\n",
              "koi_depth_err1         0\n",
              "koi_depth_err2         0\n",
              "koi_prad               0\n",
              "koi_prad_err1          0\n",
              "koi_prad_err2          0\n",
              "koi_teq                0\n",
              "koi_insol              0\n",
              "koi_insol_err1         0\n",
              "koi_insol_err2         0\n",
              "koi_model_snr          0\n",
              "koi_tce_plnt_num       0\n",
              "koi_tce_delivname    346\n",
              "koi_steff              0\n",
              "koi_steff_err1         0\n",
              "koi_steff_err2         0\n",
              "koi_slogg              0\n",
              "koi_slogg_err1         0\n",
              "koi_slogg_err2         0\n",
              "koi_srad               0\n",
              "koi_srad_err1          0\n",
              "koi_srad_err2          0\n",
              "ra                     0\n",
              "dec                    0\n",
              "koi_kepmag             0\n",
              "dtype: int64"
            ]
          },
          "metadata": {},
          "execution_count": 22
        }
      ]
    },
    {
      "cell_type": "code",
      "source": [
        "#Dropping unusefull columns \n",
        "df.drop(['ï»¿kepid', 'kepoi_name', 'kepler_name', 'koi_teq_err1', 'koi_teq_err2'], axis=1, inplace=True)"
      ],
      "metadata": {
        "id": "o2yasAA57PxZ"
      },
      "execution_count": 9,
      "outputs": []
    },
    {
      "cell_type": "code",
      "source": [
        "(df.describe())"
      ],
      "metadata": {
        "colab": {
          "base_uri": "https://localhost:8080/",
          "height": 394
        },
        "id": "rMi1caah9CWv",
        "outputId": "dae9b3eb-72da-4fc9-9361-cb0f442f6177"
      },
      "execution_count": 17,
      "outputs": [
        {
          "output_type": "execute_result",
          "data": {
            "text/plain": [
              "         koi_score  koi_fpflag_nt  koi_fpflag_ss  koi_fpflag_co  \\\n",
              "count  8054.000000    9564.000000    9564.000000    9564.000000   \n",
              "mean      0.480829       0.208595       0.232748       0.197512   \n",
              "std       0.476928       4.767290       0.422605       0.398142   \n",
              "min       0.000000       0.000000       0.000000       0.000000   \n",
              "25%       0.000000       0.000000       0.000000       0.000000   \n",
              "50%       0.334000       0.000000       0.000000       0.000000   \n",
              "75%       0.998000       0.000000       0.000000       0.000000   \n",
              "max       1.000000     465.000000       1.000000       1.000000   \n",
              "\n",
              "       koi_fpflag_ec     koi_period  koi_period_err1  koi_period_err2  \\\n",
              "count    9564.000000    9564.000000      9110.000000      9110.000000   \n",
              "mean        0.120033      75.671358         0.002148        -0.002148   \n",
              "std         0.325018    1334.744046         0.008243         0.008243   \n",
              "min         0.000000       0.241843         0.000000        -0.173000   \n",
              "25%         0.000000       2.733684         0.000005        -0.000276   \n",
              "50%         0.000000       9.752831         0.000035        -0.000035   \n",
              "75%         0.000000      40.715178         0.000276        -0.000005   \n",
              "max         1.000000  129995.778400         0.173000         0.000000   \n",
              "\n",
              "       koi_time0bk  koi_time0bk_err1  ...  koi_steff_err2    koi_slogg  \\\n",
              "count  9564.000000       9110.000000  ...     9081.000000  9201.000000   \n",
              "mean    166.183251          0.009933  ...     -162.265059     4.310157   \n",
              "std      67.918960          0.023097  ...       72.746348     0.432606   \n",
              "min     120.515914          0.000009  ...    -1762.000000     0.047000   \n",
              "25%     132.761718          0.001240  ...     -198.000000     4.218000   \n",
              "50%     137.224595          0.004130  ...     -160.000000     4.438000   \n",
              "75%     170.694603          0.010500  ...     -114.000000     4.543000   \n",
              "max    1472.522306          0.569000  ...        0.000000     5.364000   \n",
              "\n",
              "       koi_slogg_err1  koi_slogg_err2     koi_srad  koi_srad_err1  \\\n",
              "count     9096.000000     9096.000000  9201.000000    9096.000000   \n",
              "mean         0.120738       -0.143161     1.728712       0.362292   \n",
              "std          0.132837        0.085477     6.127185       0.930870   \n",
              "min          0.000000       -1.207000     0.109000       0.000000   \n",
              "25%          0.042000       -0.196000     0.829000       0.129000   \n",
              "50%          0.070000       -0.128000     1.000000       0.251000   \n",
              "75%          0.149000       -0.088000     1.345000       0.364000   \n",
              "max          1.472000        0.000000   229.908000      33.091000   \n",
              "\n",
              "       koi_srad_err2           ra          dec   koi_kepmag  \n",
              "count    9096.000000  9564.000000  9564.000000  9563.000000  \n",
              "mean       -0.394806   292.060163    43.810433    14.264606  \n",
              "std         2.168213     4.766657     3.601243     1.385448  \n",
              "min      -116.137000   279.852720    36.577381     6.966000  \n",
              "25%        -0.250000   288.660770    40.777173    13.440000  \n",
              "50%        -0.111000   292.261125    43.677504    14.520000  \n",
              "75%        -0.069000   295.859160    46.714611    15.322000  \n",
              "max         0.000000   301.720760    52.336010    20.003000  \n",
              "\n",
              "[8 rows x 41 columns]"
            ],
            "text/html": [
              "\n",
              "  <div id=\"df-0c03fd6f-e292-4f46-92ce-56d77feb9da1\">\n",
              "    <div class=\"colab-df-container\">\n",
              "      <div>\n",
              "<style scoped>\n",
              "    .dataframe tbody tr th:only-of-type {\n",
              "        vertical-align: middle;\n",
              "    }\n",
              "\n",
              "    .dataframe tbody tr th {\n",
              "        vertical-align: top;\n",
              "    }\n",
              "\n",
              "    .dataframe thead th {\n",
              "        text-align: right;\n",
              "    }\n",
              "</style>\n",
              "<table border=\"1\" class=\"dataframe\">\n",
              "  <thead>\n",
              "    <tr style=\"text-align: right;\">\n",
              "      <th></th>\n",
              "      <th>koi_score</th>\n",
              "      <th>koi_fpflag_nt</th>\n",
              "      <th>koi_fpflag_ss</th>\n",
              "      <th>koi_fpflag_co</th>\n",
              "      <th>koi_fpflag_ec</th>\n",
              "      <th>koi_period</th>\n",
              "      <th>koi_period_err1</th>\n",
              "      <th>koi_period_err2</th>\n",
              "      <th>koi_time0bk</th>\n",
              "      <th>koi_time0bk_err1</th>\n",
              "      <th>...</th>\n",
              "      <th>koi_steff_err2</th>\n",
              "      <th>koi_slogg</th>\n",
              "      <th>koi_slogg_err1</th>\n",
              "      <th>koi_slogg_err2</th>\n",
              "      <th>koi_srad</th>\n",
              "      <th>koi_srad_err1</th>\n",
              "      <th>koi_srad_err2</th>\n",
              "      <th>ra</th>\n",
              "      <th>dec</th>\n",
              "      <th>koi_kepmag</th>\n",
              "    </tr>\n",
              "  </thead>\n",
              "  <tbody>\n",
              "    <tr>\n",
              "      <th>count</th>\n",
              "      <td>8054.000000</td>\n",
              "      <td>9564.000000</td>\n",
              "      <td>9564.000000</td>\n",
              "      <td>9564.000000</td>\n",
              "      <td>9564.000000</td>\n",
              "      <td>9564.000000</td>\n",
              "      <td>9110.000000</td>\n",
              "      <td>9110.000000</td>\n",
              "      <td>9564.000000</td>\n",
              "      <td>9110.000000</td>\n",
              "      <td>...</td>\n",
              "      <td>9081.000000</td>\n",
              "      <td>9201.000000</td>\n",
              "      <td>9096.000000</td>\n",
              "      <td>9096.000000</td>\n",
              "      <td>9201.000000</td>\n",
              "      <td>9096.000000</td>\n",
              "      <td>9096.000000</td>\n",
              "      <td>9564.000000</td>\n",
              "      <td>9564.000000</td>\n",
              "      <td>9563.000000</td>\n",
              "    </tr>\n",
              "    <tr>\n",
              "      <th>mean</th>\n",
              "      <td>0.480829</td>\n",
              "      <td>0.208595</td>\n",
              "      <td>0.232748</td>\n",
              "      <td>0.197512</td>\n",
              "      <td>0.120033</td>\n",
              "      <td>75.671358</td>\n",
              "      <td>0.002148</td>\n",
              "      <td>-0.002148</td>\n",
              "      <td>166.183251</td>\n",
              "      <td>0.009933</td>\n",
              "      <td>...</td>\n",
              "      <td>-162.265059</td>\n",
              "      <td>4.310157</td>\n",
              "      <td>0.120738</td>\n",
              "      <td>-0.143161</td>\n",
              "      <td>1.728712</td>\n",
              "      <td>0.362292</td>\n",
              "      <td>-0.394806</td>\n",
              "      <td>292.060163</td>\n",
              "      <td>43.810433</td>\n",
              "      <td>14.264606</td>\n",
              "    </tr>\n",
              "    <tr>\n",
              "      <th>std</th>\n",
              "      <td>0.476928</td>\n",
              "      <td>4.767290</td>\n",
              "      <td>0.422605</td>\n",
              "      <td>0.398142</td>\n",
              "      <td>0.325018</td>\n",
              "      <td>1334.744046</td>\n",
              "      <td>0.008243</td>\n",
              "      <td>0.008243</td>\n",
              "      <td>67.918960</td>\n",
              "      <td>0.023097</td>\n",
              "      <td>...</td>\n",
              "      <td>72.746348</td>\n",
              "      <td>0.432606</td>\n",
              "      <td>0.132837</td>\n",
              "      <td>0.085477</td>\n",
              "      <td>6.127185</td>\n",
              "      <td>0.930870</td>\n",
              "      <td>2.168213</td>\n",
              "      <td>4.766657</td>\n",
              "      <td>3.601243</td>\n",
              "      <td>1.385448</td>\n",
              "    </tr>\n",
              "    <tr>\n",
              "      <th>min</th>\n",
              "      <td>0.000000</td>\n",
              "      <td>0.000000</td>\n",
              "      <td>0.000000</td>\n",
              "      <td>0.000000</td>\n",
              "      <td>0.000000</td>\n",
              "      <td>0.241843</td>\n",
              "      <td>0.000000</td>\n",
              "      <td>-0.173000</td>\n",
              "      <td>120.515914</td>\n",
              "      <td>0.000009</td>\n",
              "      <td>...</td>\n",
              "      <td>-1762.000000</td>\n",
              "      <td>0.047000</td>\n",
              "      <td>0.000000</td>\n",
              "      <td>-1.207000</td>\n",
              "      <td>0.109000</td>\n",
              "      <td>0.000000</td>\n",
              "      <td>-116.137000</td>\n",
              "      <td>279.852720</td>\n",
              "      <td>36.577381</td>\n",
              "      <td>6.966000</td>\n",
              "    </tr>\n",
              "    <tr>\n",
              "      <th>25%</th>\n",
              "      <td>0.000000</td>\n",
              "      <td>0.000000</td>\n",
              "      <td>0.000000</td>\n",
              "      <td>0.000000</td>\n",
              "      <td>0.000000</td>\n",
              "      <td>2.733684</td>\n",
              "      <td>0.000005</td>\n",
              "      <td>-0.000276</td>\n",
              "      <td>132.761718</td>\n",
              "      <td>0.001240</td>\n",
              "      <td>...</td>\n",
              "      <td>-198.000000</td>\n",
              "      <td>4.218000</td>\n",
              "      <td>0.042000</td>\n",
              "      <td>-0.196000</td>\n",
              "      <td>0.829000</td>\n",
              "      <td>0.129000</td>\n",
              "      <td>-0.250000</td>\n",
              "      <td>288.660770</td>\n",
              "      <td>40.777173</td>\n",
              "      <td>13.440000</td>\n",
              "    </tr>\n",
              "    <tr>\n",
              "      <th>50%</th>\n",
              "      <td>0.334000</td>\n",
              "      <td>0.000000</td>\n",
              "      <td>0.000000</td>\n",
              "      <td>0.000000</td>\n",
              "      <td>0.000000</td>\n",
              "      <td>9.752831</td>\n",
              "      <td>0.000035</td>\n",
              "      <td>-0.000035</td>\n",
              "      <td>137.224595</td>\n",
              "      <td>0.004130</td>\n",
              "      <td>...</td>\n",
              "      <td>-160.000000</td>\n",
              "      <td>4.438000</td>\n",
              "      <td>0.070000</td>\n",
              "      <td>-0.128000</td>\n",
              "      <td>1.000000</td>\n",
              "      <td>0.251000</td>\n",
              "      <td>-0.111000</td>\n",
              "      <td>292.261125</td>\n",
              "      <td>43.677504</td>\n",
              "      <td>14.520000</td>\n",
              "    </tr>\n",
              "    <tr>\n",
              "      <th>75%</th>\n",
              "      <td>0.998000</td>\n",
              "      <td>0.000000</td>\n",
              "      <td>0.000000</td>\n",
              "      <td>0.000000</td>\n",
              "      <td>0.000000</td>\n",
              "      <td>40.715178</td>\n",
              "      <td>0.000276</td>\n",
              "      <td>-0.000005</td>\n",
              "      <td>170.694603</td>\n",
              "      <td>0.010500</td>\n",
              "      <td>...</td>\n",
              "      <td>-114.000000</td>\n",
              "      <td>4.543000</td>\n",
              "      <td>0.149000</td>\n",
              "      <td>-0.088000</td>\n",
              "      <td>1.345000</td>\n",
              "      <td>0.364000</td>\n",
              "      <td>-0.069000</td>\n",
              "      <td>295.859160</td>\n",
              "      <td>46.714611</td>\n",
              "      <td>15.322000</td>\n",
              "    </tr>\n",
              "    <tr>\n",
              "      <th>max</th>\n",
              "      <td>1.000000</td>\n",
              "      <td>465.000000</td>\n",
              "      <td>1.000000</td>\n",
              "      <td>1.000000</td>\n",
              "      <td>1.000000</td>\n",
              "      <td>129995.778400</td>\n",
              "      <td>0.173000</td>\n",
              "      <td>0.000000</td>\n",
              "      <td>1472.522306</td>\n",
              "      <td>0.569000</td>\n",
              "      <td>...</td>\n",
              "      <td>0.000000</td>\n",
              "      <td>5.364000</td>\n",
              "      <td>1.472000</td>\n",
              "      <td>0.000000</td>\n",
              "      <td>229.908000</td>\n",
              "      <td>33.091000</td>\n",
              "      <td>0.000000</td>\n",
              "      <td>301.720760</td>\n",
              "      <td>52.336010</td>\n",
              "      <td>20.003000</td>\n",
              "    </tr>\n",
              "  </tbody>\n",
              "</table>\n",
              "<p>8 rows × 41 columns</p>\n",
              "</div>\n",
              "      <button class=\"colab-df-convert\" onclick=\"convertToInteractive('df-0c03fd6f-e292-4f46-92ce-56d77feb9da1')\"\n",
              "              title=\"Convert this dataframe to an interactive table.\"\n",
              "              style=\"display:none;\">\n",
              "        \n",
              "  <svg xmlns=\"http://www.w3.org/2000/svg\" height=\"24px\"viewBox=\"0 0 24 24\"\n",
              "       width=\"24px\">\n",
              "    <path d=\"M0 0h24v24H0V0z\" fill=\"none\"/>\n",
              "    <path d=\"M18.56 5.44l.94 2.06.94-2.06 2.06-.94-2.06-.94-.94-2.06-.94 2.06-2.06.94zm-11 1L8.5 8.5l.94-2.06 2.06-.94-2.06-.94L8.5 2.5l-.94 2.06-2.06.94zm10 10l.94 2.06.94-2.06 2.06-.94-2.06-.94-.94-2.06-.94 2.06-2.06.94z\"/><path d=\"M17.41 7.96l-1.37-1.37c-.4-.4-.92-.59-1.43-.59-.52 0-1.04.2-1.43.59L10.3 9.45l-7.72 7.72c-.78.78-.78 2.05 0 2.83L4 21.41c.39.39.9.59 1.41.59.51 0 1.02-.2 1.41-.59l7.78-7.78 2.81-2.81c.8-.78.8-2.07 0-2.86zM5.41 20L4 18.59l7.72-7.72 1.47 1.35L5.41 20z\"/>\n",
              "  </svg>\n",
              "      </button>\n",
              "      \n",
              "  <style>\n",
              "    .colab-df-container {\n",
              "      display:flex;\n",
              "      flex-wrap:wrap;\n",
              "      gap: 12px;\n",
              "    }\n",
              "\n",
              "    .colab-df-convert {\n",
              "      background-color: #E8F0FE;\n",
              "      border: none;\n",
              "      border-radius: 50%;\n",
              "      cursor: pointer;\n",
              "      display: none;\n",
              "      fill: #1967D2;\n",
              "      height: 32px;\n",
              "      padding: 0 0 0 0;\n",
              "      width: 32px;\n",
              "    }\n",
              "\n",
              "    .colab-df-convert:hover {\n",
              "      background-color: #E2EBFA;\n",
              "      box-shadow: 0px 1px 2px rgba(60, 64, 67, 0.3), 0px 1px 3px 1px rgba(60, 64, 67, 0.15);\n",
              "      fill: #174EA6;\n",
              "    }\n",
              "\n",
              "    [theme=dark] .colab-df-convert {\n",
              "      background-color: #3B4455;\n",
              "      fill: #D2E3FC;\n",
              "    }\n",
              "\n",
              "    [theme=dark] .colab-df-convert:hover {\n",
              "      background-color: #434B5C;\n",
              "      box-shadow: 0px 1px 3px 1px rgba(0, 0, 0, 0.15);\n",
              "      filter: drop-shadow(0px 1px 2px rgba(0, 0, 0, 0.3));\n",
              "      fill: #FFFFFF;\n",
              "    }\n",
              "  </style>\n",
              "\n",
              "      <script>\n",
              "        const buttonEl =\n",
              "          document.querySelector('#df-0c03fd6f-e292-4f46-92ce-56d77feb9da1 button.colab-df-convert');\n",
              "        buttonEl.style.display =\n",
              "          google.colab.kernel.accessAllowed ? 'block' : 'none';\n",
              "\n",
              "        async function convertToInteractive(key) {\n",
              "          const element = document.querySelector('#df-0c03fd6f-e292-4f46-92ce-56d77feb9da1');\n",
              "          const dataTable =\n",
              "            await google.colab.kernel.invokeFunction('convertToInteractive',\n",
              "                                                     [key], {});\n",
              "          if (!dataTable) return;\n",
              "\n",
              "          const docLinkHtml = 'Like what you see? Visit the ' +\n",
              "            '<a target=\"_blank\" href=https://colab.research.google.com/notebooks/data_table.ipynb>data table notebook</a>'\n",
              "            + ' to learn more about interactive tables.';\n",
              "          element.innerHTML = '';\n",
              "          dataTable['output_type'] = 'display_data';\n",
              "          await google.colab.output.renderOutput(dataTable, element);\n",
              "          const docLink = document.createElement('div');\n",
              "          docLink.innerHTML = docLinkHtml;\n",
              "          element.appendChild(docLink);\n",
              "        }\n",
              "      </script>\n",
              "    </div>\n",
              "  </div>\n",
              "  "
            ]
          },
          "metadata": {},
          "execution_count": 17
        }
      ]
    },
    {
      "cell_type": "code",
      "source": [
        "#filling NA values\n",
        "for name in df.columns:\n",
        "    if name == 'koi_disposition' or name == 'koi_pdisposition' or name == 'koi_tce_delivname':\n",
        "        continue\n",
        "    mean = df.describe()[name]['mean']\n",
        "    df[name] = df[name].fillna(mean)"
      ],
      "metadata": {
        "id": "4iCiroTN9FPE"
      },
      "execution_count": 21,
      "outputs": []
    },
    {
      "cell_type": "code",
      "source": [
        "df.drop('koi_tce_delivname', axis=1, inplace=True)"
      ],
      "metadata": {
        "id": "oupvadxd-tMx"
      },
      "execution_count": 23,
      "outputs": []
    },
    {
      "cell_type": "code",
      "source": [
        "df.head()"
      ],
      "metadata": {
        "colab": {
          "base_uri": "https://localhost:8080/",
          "height": 264
        },
        "id": "q96BfHKr_juW",
        "outputId": "e78ed9ce-0349-4578-a866-1750bdbd118b"
      },
      "execution_count": 24,
      "outputs": [
        {
          "output_type": "execute_result",
          "data": {
            "text/plain": [
              "  koi_disposition koi_pdisposition  koi_score  koi_fpflag_nt  koi_fpflag_ss  \\\n",
              "0       CONFIRMED        CANDIDATE      1.000              0              0   \n",
              "1       CONFIRMED        CANDIDATE      0.969              0              0   \n",
              "2       CANDIDATE        CANDIDATE      0.000              0              0   \n",
              "3  FALSE POSITIVE   FALSE POSITIVE      0.000              0              1   \n",
              "4       CONFIRMED        CANDIDATE      1.000              0              0   \n",
              "\n",
              "   koi_fpflag_co  koi_fpflag_ec  koi_period  koi_period_err1  koi_period_err2  \\\n",
              "0              0              0    9.488036     2.780000e-05    -2.780000e-05   \n",
              "1              0              0   54.418383     2.480000e-04    -2.480000e-04   \n",
              "2              0              0   19.899140     1.490000e-05    -1.490000e-05   \n",
              "3              0              0    1.736952     2.630000e-07    -2.630000e-07   \n",
              "4              0              0    2.525592     3.760000e-06    -3.760000e-06   \n",
              "\n",
              "   ...  koi_steff_err2  koi_slogg  koi_slogg_err1  koi_slogg_err2  koi_srad  \\\n",
              "0  ...           -81.0      4.467           0.064          -0.096     0.927   \n",
              "1  ...           -81.0      4.467           0.064          -0.096     0.927   \n",
              "2  ...          -176.0      4.544           0.044          -0.176     0.868   \n",
              "3  ...          -174.0      4.564           0.053          -0.168     0.791   \n",
              "4  ...          -211.0      4.438           0.070          -0.210     1.046   \n",
              "\n",
              "   koi_srad_err1  koi_srad_err2         ra        dec  koi_kepmag  \n",
              "0          0.105         -0.061  291.93423  48.141651      15.347  \n",
              "1          0.105         -0.061  291.93423  48.141651      15.347  \n",
              "2          0.233         -0.078  297.00482  48.134129      15.436  \n",
              "3          0.201         -0.067  285.53461  48.285210      15.597  \n",
              "4          0.334         -0.133  288.75488  48.226200      15.509  \n",
              "\n",
              "[5 rows x 43 columns]"
            ],
            "text/html": [
              "\n",
              "  <div id=\"df-94649816-9ce7-47a4-b4ca-0755ec7da66b\">\n",
              "    <div class=\"colab-df-container\">\n",
              "      <div>\n",
              "<style scoped>\n",
              "    .dataframe tbody tr th:only-of-type {\n",
              "        vertical-align: middle;\n",
              "    }\n",
              "\n",
              "    .dataframe tbody tr th {\n",
              "        vertical-align: top;\n",
              "    }\n",
              "\n",
              "    .dataframe thead th {\n",
              "        text-align: right;\n",
              "    }\n",
              "</style>\n",
              "<table border=\"1\" class=\"dataframe\">\n",
              "  <thead>\n",
              "    <tr style=\"text-align: right;\">\n",
              "      <th></th>\n",
              "      <th>koi_disposition</th>\n",
              "      <th>koi_pdisposition</th>\n",
              "      <th>koi_score</th>\n",
              "      <th>koi_fpflag_nt</th>\n",
              "      <th>koi_fpflag_ss</th>\n",
              "      <th>koi_fpflag_co</th>\n",
              "      <th>koi_fpflag_ec</th>\n",
              "      <th>koi_period</th>\n",
              "      <th>koi_period_err1</th>\n",
              "      <th>koi_period_err2</th>\n",
              "      <th>...</th>\n",
              "      <th>koi_steff_err2</th>\n",
              "      <th>koi_slogg</th>\n",
              "      <th>koi_slogg_err1</th>\n",
              "      <th>koi_slogg_err2</th>\n",
              "      <th>koi_srad</th>\n",
              "      <th>koi_srad_err1</th>\n",
              "      <th>koi_srad_err2</th>\n",
              "      <th>ra</th>\n",
              "      <th>dec</th>\n",
              "      <th>koi_kepmag</th>\n",
              "    </tr>\n",
              "  </thead>\n",
              "  <tbody>\n",
              "    <tr>\n",
              "      <th>0</th>\n",
              "      <td>CONFIRMED</td>\n",
              "      <td>CANDIDATE</td>\n",
              "      <td>1.000</td>\n",
              "      <td>0</td>\n",
              "      <td>0</td>\n",
              "      <td>0</td>\n",
              "      <td>0</td>\n",
              "      <td>9.488036</td>\n",
              "      <td>2.780000e-05</td>\n",
              "      <td>-2.780000e-05</td>\n",
              "      <td>...</td>\n",
              "      <td>-81.0</td>\n",
              "      <td>4.467</td>\n",
              "      <td>0.064</td>\n",
              "      <td>-0.096</td>\n",
              "      <td>0.927</td>\n",
              "      <td>0.105</td>\n",
              "      <td>-0.061</td>\n",
              "      <td>291.93423</td>\n",
              "      <td>48.141651</td>\n",
              "      <td>15.347</td>\n",
              "    </tr>\n",
              "    <tr>\n",
              "      <th>1</th>\n",
              "      <td>CONFIRMED</td>\n",
              "      <td>CANDIDATE</td>\n",
              "      <td>0.969</td>\n",
              "      <td>0</td>\n",
              "      <td>0</td>\n",
              "      <td>0</td>\n",
              "      <td>0</td>\n",
              "      <td>54.418383</td>\n",
              "      <td>2.480000e-04</td>\n",
              "      <td>-2.480000e-04</td>\n",
              "      <td>...</td>\n",
              "      <td>-81.0</td>\n",
              "      <td>4.467</td>\n",
              "      <td>0.064</td>\n",
              "      <td>-0.096</td>\n",
              "      <td>0.927</td>\n",
              "      <td>0.105</td>\n",
              "      <td>-0.061</td>\n",
              "      <td>291.93423</td>\n",
              "      <td>48.141651</td>\n",
              "      <td>15.347</td>\n",
              "    </tr>\n",
              "    <tr>\n",
              "      <th>2</th>\n",
              "      <td>CANDIDATE</td>\n",
              "      <td>CANDIDATE</td>\n",
              "      <td>0.000</td>\n",
              "      <td>0</td>\n",
              "      <td>0</td>\n",
              "      <td>0</td>\n",
              "      <td>0</td>\n",
              "      <td>19.899140</td>\n",
              "      <td>1.490000e-05</td>\n",
              "      <td>-1.490000e-05</td>\n",
              "      <td>...</td>\n",
              "      <td>-176.0</td>\n",
              "      <td>4.544</td>\n",
              "      <td>0.044</td>\n",
              "      <td>-0.176</td>\n",
              "      <td>0.868</td>\n",
              "      <td>0.233</td>\n",
              "      <td>-0.078</td>\n",
              "      <td>297.00482</td>\n",
              "      <td>48.134129</td>\n",
              "      <td>15.436</td>\n",
              "    </tr>\n",
              "    <tr>\n",
              "      <th>3</th>\n",
              "      <td>FALSE POSITIVE</td>\n",
              "      <td>FALSE POSITIVE</td>\n",
              "      <td>0.000</td>\n",
              "      <td>0</td>\n",
              "      <td>1</td>\n",
              "      <td>0</td>\n",
              "      <td>0</td>\n",
              "      <td>1.736952</td>\n",
              "      <td>2.630000e-07</td>\n",
              "      <td>-2.630000e-07</td>\n",
              "      <td>...</td>\n",
              "      <td>-174.0</td>\n",
              "      <td>4.564</td>\n",
              "      <td>0.053</td>\n",
              "      <td>-0.168</td>\n",
              "      <td>0.791</td>\n",
              "      <td>0.201</td>\n",
              "      <td>-0.067</td>\n",
              "      <td>285.53461</td>\n",
              "      <td>48.285210</td>\n",
              "      <td>15.597</td>\n",
              "    </tr>\n",
              "    <tr>\n",
              "      <th>4</th>\n",
              "      <td>CONFIRMED</td>\n",
              "      <td>CANDIDATE</td>\n",
              "      <td>1.000</td>\n",
              "      <td>0</td>\n",
              "      <td>0</td>\n",
              "      <td>0</td>\n",
              "      <td>0</td>\n",
              "      <td>2.525592</td>\n",
              "      <td>3.760000e-06</td>\n",
              "      <td>-3.760000e-06</td>\n",
              "      <td>...</td>\n",
              "      <td>-211.0</td>\n",
              "      <td>4.438</td>\n",
              "      <td>0.070</td>\n",
              "      <td>-0.210</td>\n",
              "      <td>1.046</td>\n",
              "      <td>0.334</td>\n",
              "      <td>-0.133</td>\n",
              "      <td>288.75488</td>\n",
              "      <td>48.226200</td>\n",
              "      <td>15.509</td>\n",
              "    </tr>\n",
              "  </tbody>\n",
              "</table>\n",
              "<p>5 rows × 43 columns</p>\n",
              "</div>\n",
              "      <button class=\"colab-df-convert\" onclick=\"convertToInteractive('df-94649816-9ce7-47a4-b4ca-0755ec7da66b')\"\n",
              "              title=\"Convert this dataframe to an interactive table.\"\n",
              "              style=\"display:none;\">\n",
              "        \n",
              "  <svg xmlns=\"http://www.w3.org/2000/svg\" height=\"24px\"viewBox=\"0 0 24 24\"\n",
              "       width=\"24px\">\n",
              "    <path d=\"M0 0h24v24H0V0z\" fill=\"none\"/>\n",
              "    <path d=\"M18.56 5.44l.94 2.06.94-2.06 2.06-.94-2.06-.94-.94-2.06-.94 2.06-2.06.94zm-11 1L8.5 8.5l.94-2.06 2.06-.94-2.06-.94L8.5 2.5l-.94 2.06-2.06.94zm10 10l.94 2.06.94-2.06 2.06-.94-2.06-.94-.94-2.06-.94 2.06-2.06.94z\"/><path d=\"M17.41 7.96l-1.37-1.37c-.4-.4-.92-.59-1.43-.59-.52 0-1.04.2-1.43.59L10.3 9.45l-7.72 7.72c-.78.78-.78 2.05 0 2.83L4 21.41c.39.39.9.59 1.41.59.51 0 1.02-.2 1.41-.59l7.78-7.78 2.81-2.81c.8-.78.8-2.07 0-2.86zM5.41 20L4 18.59l7.72-7.72 1.47 1.35L5.41 20z\"/>\n",
              "  </svg>\n",
              "      </button>\n",
              "      \n",
              "  <style>\n",
              "    .colab-df-container {\n",
              "      display:flex;\n",
              "      flex-wrap:wrap;\n",
              "      gap: 12px;\n",
              "    }\n",
              "\n",
              "    .colab-df-convert {\n",
              "      background-color: #E8F0FE;\n",
              "      border: none;\n",
              "      border-radius: 50%;\n",
              "      cursor: pointer;\n",
              "      display: none;\n",
              "      fill: #1967D2;\n",
              "      height: 32px;\n",
              "      padding: 0 0 0 0;\n",
              "      width: 32px;\n",
              "    }\n",
              "\n",
              "    .colab-df-convert:hover {\n",
              "      background-color: #E2EBFA;\n",
              "      box-shadow: 0px 1px 2px rgba(60, 64, 67, 0.3), 0px 1px 3px 1px rgba(60, 64, 67, 0.15);\n",
              "      fill: #174EA6;\n",
              "    }\n",
              "\n",
              "    [theme=dark] .colab-df-convert {\n",
              "      background-color: #3B4455;\n",
              "      fill: #D2E3FC;\n",
              "    }\n",
              "\n",
              "    [theme=dark] .colab-df-convert:hover {\n",
              "      background-color: #434B5C;\n",
              "      box-shadow: 0px 1px 3px 1px rgba(0, 0, 0, 0.15);\n",
              "      filter: drop-shadow(0px 1px 2px rgba(0, 0, 0, 0.3));\n",
              "      fill: #FFFFFF;\n",
              "    }\n",
              "  </style>\n",
              "\n",
              "      <script>\n",
              "        const buttonEl =\n",
              "          document.querySelector('#df-94649816-9ce7-47a4-b4ca-0755ec7da66b button.colab-df-convert');\n",
              "        buttonEl.style.display =\n",
              "          google.colab.kernel.accessAllowed ? 'block' : 'none';\n",
              "\n",
              "        async function convertToInteractive(key) {\n",
              "          const element = document.querySelector('#df-94649816-9ce7-47a4-b4ca-0755ec7da66b');\n",
              "          const dataTable =\n",
              "            await google.colab.kernel.invokeFunction('convertToInteractive',\n",
              "                                                     [key], {});\n",
              "          if (!dataTable) return;\n",
              "\n",
              "          const docLinkHtml = 'Like what you see? Visit the ' +\n",
              "            '<a target=\"_blank\" href=https://colab.research.google.com/notebooks/data_table.ipynb>data table notebook</a>'\n",
              "            + ' to learn more about interactive tables.';\n",
              "          element.innerHTML = '';\n",
              "          dataTable['output_type'] = 'display_data';\n",
              "          await google.colab.output.renderOutput(dataTable, element);\n",
              "          const docLink = document.createElement('div');\n",
              "          docLink.innerHTML = docLinkHtml;\n",
              "          element.appendChild(docLink);\n",
              "        }\n",
              "      </script>\n",
              "    </div>\n",
              "  </div>\n",
              "  "
            ]
          },
          "metadata": {},
          "execution_count": 24
        },
        {
          "output_type": "stream",
          "name": "stdout",
          "text": [
            "Warning: Total number of columns (43) exceeds max_columns (20) limiting to first (20) columns.\n"
          ]
        }
      ]
    },
    {
      "cell_type": "code",
      "source": [
        "df.value_counts('koi_fpflag_nt')"
      ],
      "metadata": {
        "colab": {
          "base_uri": "https://localhost:8080/"
        },
        "id": "LKStdOqJA8p_",
        "outputId": "085aa6e5-1020-4fc1-84da-2c8a86deeeb0"
      },
      "execution_count": 38,
      "outputs": [
        {
          "output_type": "execute_result",
          "data": {
            "text/plain": [
              "koi_fpflag_nt\n",
              "0    8033\n",
              "1    1530\n",
              "dtype: int64"
            ]
          },
          "metadata": {},
          "execution_count": 38
        }
      ]
    },
    {
      "cell_type": "code",
      "source": [
        "sns.countplot('koi_fpflag_nt', data=df)"
      ],
      "metadata": {
        "colab": {
          "base_uri": "https://localhost:8080/",
          "height": 352
        },
        "id": "Wnz9Bi9hEqj3",
        "outputId": "8450d9d8-92f5-4ac0-d4f3-6835d4691657"
      },
      "execution_count": 37,
      "outputs": [
        {
          "output_type": "stream",
          "name": "stderr",
          "text": [
            "/usr/local/lib/python3.7/dist-packages/seaborn/_decorators.py:43: FutureWarning: Pass the following variable as a keyword arg: x. From version 0.12, the only valid positional argument will be `data`, and passing other arguments without an explicit keyword will result in an error or misinterpretation.\n",
            "  FutureWarning\n"
          ]
        },
        {
          "output_type": "execute_result",
          "data": {
            "text/plain": [
              "<matplotlib.axes._subplots.AxesSubplot at 0x7f16d3d9fad0>"
            ]
          },
          "metadata": {},
          "execution_count": 37
        },
        {
          "output_type": "display_data",
          "data": {
            "text/plain": [
              "<Figure size 432x288 with 1 Axes>"
            ],
            "image/png": "[encoded data removed]"
          },
          "metadata": {
            "needs_background": "light"
          }
        }
      ]
    },
    {
      "cell_type": "code",
      "source": [
        "df.value_counts('koi_fpflag_ss')"
      ],
      "metadata": {
        "colab": {
          "base_uri": "https://localhost:8080/"
        },
        "id": "nbHgaktwBQuN",
        "outputId": "3b36111c-c40f-49bd-e9a4-bdaa0f434fe2"
      },
      "execution_count": 26,
      "outputs": [
        {
          "output_type": "execute_result",
          "data": {
            "text/plain": [
              "koi_fpflag_ss\n",
              "0    7338\n",
              "1    2226\n",
              "dtype: int64"
            ]
          },
          "metadata": {},
          "execution_count": 26
        }
      ]
    },
    {
      "cell_type": "code",
      "source": [
        "sns.countplot('koi_fpflag_ss', data=df)"
      ],
      "metadata": {
        "colab": {
          "base_uri": "https://localhost:8080/",
          "height": 352
        },
        "id": "hpSHblmvE7g-",
        "outputId": "d56935a0-3217-4c89-df87-b5209da5581b"
      },
      "execution_count": 30,
      "outputs": [
        {
          "output_type": "stream",
          "name": "stderr",
          "text": [
            "/usr/local/lib/python3.7/dist-packages/seaborn/_decorators.py:43: FutureWarning: Pass the following variable as a keyword arg: x. From version 0.12, the only valid positional argument will be `data`, and passing other arguments without an explicit keyword will result in an error or misinterpretation.\n",
            "  FutureWarning\n"
          ]
        },
        {
          "output_type": "execute_result",
          "data": {
            "text/plain": [
              "<matplotlib.axes._subplots.AxesSubplot at 0x7f16d4375a10>"
            ]
          },
          "metadata": {},
          "execution_count": 30
        },
        {
          "output_type": "display_data",
          "data": {
            "text/plain": [
              "<Figure size 432x288 with 1 Axes>"
            ],
            "image/png": "[encoded data removed]"
          },
          "metadata": {
            "needs_background": "light"
          }
        }
      ]
    },
    {
      "cell_type": "code",
      "source": [
        "df.value_counts('koi_fpflag_co')"
      ],
      "metadata": {
        "colab": {
          "base_uri": "https://localhost:8080/"
        },
        "id": "Wf6FovM8BXN1",
        "outputId": "e6ca24e3-4c9c-4c0a-d768-436babfcd848"
      },
      "execution_count": 27,
      "outputs": [
        {
          "output_type": "execute_result",
          "data": {
            "text/plain": [
              "koi_fpflag_co\n",
              "0    7675\n",
              "1    1889\n",
              "dtype: int64"
            ]
          },
          "metadata": {},
          "execution_count": 27
        }
      ]
    },
    {
      "cell_type": "code",
      "source": [
        "sns.countplot('koi_fpflag_co', data=df)"
      ],
      "metadata": {
        "colab": {
          "base_uri": "https://localhost:8080/",
          "height": 355
        },
        "id": "eHavXsmCFArf",
        "outputId": "94e4bb05-13f6-4bbc-8f5d-43e966289dbe"
      },
      "execution_count": 31,
      "outputs": [
        {
          "output_type": "stream",
          "name": "stderr",
          "text": [
            "/usr/local/lib/python3.7/dist-packages/seaborn/_decorators.py:43: FutureWarning: Pass the following variable as a keyword arg: x. From version 0.12, the only valid positional argument will be `data`, and passing other arguments without an explicit keyword will result in an error or misinterpretation.\n",
            "  FutureWarning\n"
          ]
        },
        {
          "output_type": "execute_result",
          "data": {
            "text/plain": [
              "<matplotlib.axes._subplots.AxesSubplot at 0x7f16d3e2f890>"
            ]
          },
          "metadata": {},
          "execution_count": 31
        },
        {
          "output_type": "display_data",
          "data": {
            "text/plain": [
              "<Figure size 432x288 with 1 Axes>"
            ],
            "image/png": "[encoded data removed]"
          },
          "metadata": {
            "needs_background": "light"
          }
        }
      ]
    },
    {
      "cell_type": "code",
      "source": [
        "df.value_counts('koi_fpflag_ec')"
      ],
      "metadata": {
        "colab": {
          "base_uri": "https://localhost:8080/"
        },
        "id": "mlHGlem9Bd34",
        "outputId": "c83c8192-a966-4009-a5b0-8e38eda1ae74"
      },
      "execution_count": 28,
      "outputs": [
        {
          "output_type": "execute_result",
          "data": {
            "text/plain": [
              "koi_fpflag_ec\n",
              "0    8416\n",
              "1    1148\n",
              "dtype: int64"
            ]
          },
          "metadata": {},
          "execution_count": 28
        }
      ]
    },
    {
      "cell_type": "code",
      "source": [
        "sns.countplot('koi_fpflag_ec', data=df)"
      ],
      "metadata": {
        "colab": {
          "base_uri": "https://localhost:8080/",
          "height": 352
        },
        "id": "6Y-9wsouBia-",
        "outputId": "a84c8c90-321b-4ff7-8467-45a904d0a6b3"
      },
      "execution_count": 32,
      "outputs": [
        {
          "output_type": "stream",
          "name": "stderr",
          "text": [
            "/usr/local/lib/python3.7/dist-packages/seaborn/_decorators.py:43: FutureWarning: Pass the following variable as a keyword arg: x. From version 0.12, the only valid positional argument will be `data`, and passing other arguments without an explicit keyword will result in an error or misinterpretation.\n",
            "  FutureWarning\n"
          ]
        },
        {
          "output_type": "execute_result",
          "data": {
            "text/plain": [
              "<matplotlib.axes._subplots.AxesSubplot at 0x7f16d3e32390>"
            ]
          },
          "metadata": {},
          "execution_count": 32
        },
        {
          "output_type": "display_data",
          "data": {
            "text/plain": [
              "<Figure size 432x288 with 1 Axes>"
            ],
            "image/png": "[encoded data removed]"
          },
          "metadata": {
            "needs_background": "light"
          }
        }
      ]
    },
    {
      "cell_type": "code",
      "source": [
        "df.drop(df.index[df['koi_fpflag_nt'] == 465], inplace=True)"
      ],
      "metadata": {
        "id": "muWlaT5IFICC"
      },
      "execution_count": 36,
      "outputs": []
    },
    {
      "cell_type": "code",
      "source": [
        "df.info()"
      ],
      "metadata": {
        "colab": {
          "base_uri": "https://localhost:8080/"
        },
        "id": "0VRm9QmRFWaI",
        "outputId": "cae9e97d-cb73-4252-c801-cb02c24980cd"
      },
      "execution_count": 39,
      "outputs": [
        {
          "output_type": "stream",
          "name": "stdout",
          "text": [
            "<class 'pandas.core.frame.DataFrame'>\n",
            "Int64Index: 9563 entries, 0 to 9563\n",
            "Data columns (total 43 columns):\n",
            " #   Column             Non-Null Count  Dtype  \n",
            "---  ------             --------------  -----  \n",
            " 0   koi_disposition    9563 non-null   object \n",
            " 1   koi_pdisposition   9563 non-null   object \n",
            " 2   koi_score          9563 non-null   float64\n",
            " 3   koi_fpflag_nt      9563 non-null   int64  \n",
            " 4   koi_fpflag_ss      9563 non-null   int64  \n",
            " 5   koi_fpflag_co      9563 non-null   int64  \n",
            " 6   koi_fpflag_ec      9563 non-null   int64  \n",
            " 7   koi_period         9563 non-null   float64\n",
            " 8   koi_period_err1    9563 non-null   float64\n",
            " 9   koi_period_err2    9563 non-null   float64\n",
            " 10  koi_time0bk        9563 non-null   float64\n",
            " 11  koi_time0bk_err1   9563 non-null   float64\n",
            " 12  koi_time0bk_err2   9563 non-null   float64\n",
            " 13  koi_impact         9563 non-null   float64\n",
            " 14  koi_impact_err1    9563 non-null   float64\n",
            " 15  koi_impact_err2    9563 non-null   float64\n",
            " 16  koi_duration       9563 non-null   float64\n",
            " 17  koi_duration_err1  9563 non-null   float64\n",
            " 18  koi_duration_err2  9563 non-null   float64\n",
            " 19  koi_depth          9563 non-null   float64\n",
            " 20  koi_depth_err1     9563 non-null   float64\n",
            " 21  koi_depth_err2     9563 non-null   float64\n",
            " 22  koi_prad           9563 non-null   float64\n",
            " 23  koi_prad_err1      9563 non-null   float64\n",
            " 24  koi_prad_err2      9563 non-null   float64\n",
            " 25  koi_teq            9563 non-null   float64\n",
            " 26  koi_insol          9563 non-null   float64\n",
            " 27  koi_insol_err1     9563 non-null   float64\n",
            " 28  koi_insol_err2     9563 non-null   float64\n",
            " 29  koi_model_snr      9563 non-null   float64\n",
            " 30  koi_tce_plnt_num   9563 non-null   float64\n",
            " 31  koi_steff          9563 non-null   float64\n",
            " 32  koi_steff_err1     9563 non-null   float64\n",
            " 33  koi_steff_err2     9563 non-null   float64\n",
            " 34  koi_slogg          9563 non-null   float64\n",
            " 35  koi_slogg_err1     9563 non-null   float64\n",
            " 36  koi_slogg_err2     9563 non-null   float64\n",
            " 37  koi_srad           9563 non-null   float64\n",
            " 38  koi_srad_err1      9563 non-null   float64\n",
            " 39  koi_srad_err2      9563 non-null   float64\n",
            " 40  ra                 9563 non-null   float64\n",
            " 41  dec                9563 non-null   float64\n",
            " 42  koi_kepmag         9563 non-null   float64\n",
            "dtypes: float64(37), int64(4), object(2)\n",
            "memory usage: 3.5+ MB\n"
          ]
        }
      ]
    },
    {
      "cell_type": "code",
      "source": [
        "#Extracting labels\n",
        "labels = df['koi_disposition']\n",
        "df.drop('koi_disposition', axis=1, inplace=True)"
      ],
      "metadata": {
        "id": "8HJzHUezGcsl"
      },
      "execution_count": 40,
      "outputs": []
    },
    {
      "cell_type": "code",
      "source": [
        "import collections\n",
        "counter = collections.Counter(labels)\n",
        "counter"
      ],
      "metadata": {
        "colab": {
          "base_uri": "https://localhost:8080/"
        },
        "id": "ptfhqpNSg38e",
        "outputId": "87148b26-8f94-495a-9138-3266f111047e"
      },
      "execution_count": 72,
      "outputs": [
        {
          "output_type": "execute_result",
          "data": {
            "text/plain": [
              "Counter({1: 2357, 0: 2366, 2: 4840})"
            ]
          },
          "metadata": {},
          "execution_count": 72
        }
      ]
    },
    {
      "cell_type": "code",
      "source": [
        "#Preprocessing values\n",
        "\n",
        "from sklearn.preprocessing import LabelEncoder\n",
        "from sklearn.preprocessing import MinMaxScaler\n",
        "from sklearn.compose import ColumnTransformer"
      ],
      "metadata": {
        "id": "lWSx9S7wKxaf"
      },
      "execution_count": 41,
      "outputs": []
    },
    {
      "cell_type": "code",
      "source": [
        "columns = df.columns"
      ],
      "metadata": {
        "id": "aXiASLumL1Uf"
      },
      "execution_count": 57,
      "outputs": []
    },
    {
      "cell_type": "code",
      "source": [
        "le = LabelEncoder()\n",
        "labels = le.fit_transform(labels)"
      ],
      "metadata": {
        "id": "yy2MVkJxPw-D"
      },
      "execution_count": 54,
      "outputs": []
    },
    {
      "cell_type": "code",
      "source": [
        "labels"
      ],
      "metadata": {
        "colab": {
          "base_uri": "https://localhost:8080/"
        },
        "id": "7qECeFTaPzB-",
        "outputId": "0bde2ec2-f61f-404a-c440-c7c4ca2a98fd"
      },
      "execution_count": 55,
      "outputs": [
        {
          "output_type": "execute_result",
          "data": {
            "text/plain": [
              "array([1, 1, 0, ..., 2, 0, 2])"
            ]
          },
          "metadata": {},
          "execution_count": 55
        }
      ]
    },
    {
      "cell_type": "code",
      "source": [
        "for cols in columns:\n",
        "    if cols == 'koi_pdisposition':\n",
        "        le = LabelEncoder()\n",
        "        df['koi_pdisposition'] = le.fit_transform(df['koi_pdisposition'])\n",
        "    else:\n",
        "        scaler = MinMaxScaler()\n",
        "        df[cols] = scaler.fit_transform(np.array(df[cols]).reshape(-1, 1))"
      ],
      "metadata": {
        "id": "enlv0sKMZoOB"
      },
      "execution_count": 60,
      "outputs": []
    },
    {
      "cell_type": "code",
      "source": [
        "df.head()"
      ],
      "metadata": {
        "colab": {
          "base_uri": "https://localhost:8080/",
          "height": 299
        },
        "id": "ctkA4g8BaE-M",
        "outputId": "964592fc-8fa7-4356-9c63-2f1c415342d7"
      },
      "execution_count": 61,
      "outputs": [
        {
          "output_type": "execute_result",
          "data": {
            "text/plain": [
              "   koi_pdisposition  koi_score  koi_fpflag_nt  koi_fpflag_ss  koi_fpflag_co  \\\n",
              "0                 0      1.000            0.0            0.0            0.0   \n",
              "1                 0      0.969            0.0            0.0            0.0   \n",
              "2                 0      0.000            0.0            0.0            0.0   \n",
              "3                 1      0.000            0.0            1.0            0.0   \n",
              "4                 0      1.000            0.0            0.0            0.0   \n",
              "\n",
              "   koi_fpflag_ec  koi_period  koi_period_err1  koi_period_err2  koi_time0bk  \\\n",
              "0            0.0    0.000071         0.000161         0.999839     0.036999   \n",
              "1            0.0    0.000417         0.001434         0.998566     0.031063   \n",
              "2            0.0    0.000151         0.000086         0.999914     0.040928   \n",
              "3            0.0    0.000012         0.000002         0.999998     0.036828   \n",
              "4            0.0    0.000018         0.000022         0.999978     0.037781   \n",
              "\n",
              "   ...  koi_steff_err2  koi_slogg  koi_slogg_err1  koi_slogg_err2  koi_srad  \\\n",
              "0  ...        0.954030   0.831296        0.043478        0.920464  0.003560   \n",
              "1  ...        0.954030   0.831296        0.043478        0.920464  0.003560   \n",
              "2  ...        0.900114   0.845778        0.029891        0.854184  0.003303   \n",
              "3  ...        0.901249   0.849539        0.036005        0.860812  0.002968   \n",
              "4  ...        0.880250   0.825842        0.047554        0.826015  0.004077   \n",
              "\n",
              "   koi_srad_err1  koi_srad_err2        ra       dec  koi_kepmag  \n",
              "0       0.003173       0.999475  0.552473  0.733837    0.642863  \n",
              "1       0.003173       0.999475  0.552473  0.733837    0.642863  \n",
              "2       0.007041       0.999328  0.784346  0.733360    0.649689  \n",
              "3       0.006074       0.999423  0.259826  0.742947    0.662039  \n",
              "4       0.010093       0.998855  0.407085  0.739203    0.655289  \n",
              "\n",
              "[5 rows x 42 columns]"
            ],
            "text/html": [
              "\n",
              "  <div id=\"df-e8a795c1-bd26-4c7b-ab40-9ed2cc86c4ec\">\n",
              "    <div class=\"colab-df-container\">\n",
              "      <div>\n",
              "<style scoped>\n",
              "    .dataframe tbody tr th:only-of-type {\n",
              "        vertical-align: middle;\n",
              "    }\n",
              "\n",
              "    .dataframe tbody tr th {\n",
              "        vertical-align: top;\n",
              "    }\n",
              "\n",
              "    .dataframe thead th {\n",
              "        text-align: right;\n",
              "    }\n",
              "</style>\n",
              "<table border=\"1\" class=\"dataframe\">\n",
              "  <thead>\n",
              "    <tr style=\"text-align: right;\">\n",
              "      <th></th>\n",
              "      <th>koi_pdisposition</th>\n",
              "      <th>koi_score</th>\n",
              "      <th>koi_fpflag_nt</th>\n",
              "      <th>koi_fpflag_ss</th>\n",
              "      <th>koi_fpflag_co</th>\n",
              "      <th>koi_fpflag_ec</th>\n",
              "      <th>koi_period</th>\n",
              "      <th>koi_period_err1</th>\n",
              "      <th>koi_period_err2</th>\n",
              "      <th>koi_time0bk</th>\n",
              "      <th>...</th>\n",
              "      <th>koi_steff_err2</th>\n",
              "      <th>koi_slogg</th>\n",
              "      <th>koi_slogg_err1</th>\n",
              "      <th>koi_slogg_err2</th>\n",
              "      <th>koi_srad</th>\n",
              "      <th>koi_srad_err1</th>\n",
              "      <th>koi_srad_err2</th>\n",
              "      <th>ra</th>\n",
              "      <th>dec</th>\n",
              "      <th>koi_kepmag</th>\n",
              "    </tr>\n",
              "  </thead>\n",
              "  <tbody>\n",
              "    <tr>\n",
              "      <th>0</th>\n",
              "      <td>0</td>\n",
              "      <td>1.000</td>\n",
              "      <td>0.0</td>\n",
              "      <td>0.0</td>\n",
              "      <td>0.0</td>\n",
              "      <td>0.0</td>\n",
              "      <td>0.000071</td>\n",
              "      <td>0.000161</td>\n",
              "      <td>0.999839</td>\n",
              "      <td>0.036999</td>\n",
              "      <td>...</td>\n",
              "      <td>0.954030</td>\n",
              "      <td>0.831296</td>\n",
              "      <td>0.043478</td>\n",
              "      <td>0.920464</td>\n",
              "      <td>0.003560</td>\n",
              "      <td>0.003173</td>\n",
              "      <td>0.999475</td>\n",
              "      <td>0.552473</td>\n",
              "      <td>0.733837</td>\n",
              "      <td>0.642863</td>\n",
              "    </tr>\n",
              "    <tr>\n",
              "      <th>1</th>\n",
              "      <td>0</td>\n",
              "      <td>0.969</td>\n",
              "      <td>0.0</td>\n",
              "      <td>0.0</td>\n",
              "      <td>0.0</td>\n",
              "      <td>0.0</td>\n",
              "      <td>0.000417</td>\n",
              "      <td>0.001434</td>\n",
              "      <td>0.998566</td>\n",
              "      <td>0.031063</td>\n",
              "      <td>...</td>\n",
              "      <td>0.954030</td>\n",
              "      <td>0.831296</td>\n",
              "      <td>0.043478</td>\n",
              "      <td>0.920464</td>\n",
              "      <td>0.003560</td>\n",
              "      <td>0.003173</td>\n",
              "      <td>0.999475</td>\n",
              "      <td>0.552473</td>\n",
              "      <td>0.733837</td>\n",
              "      <td>0.642863</td>\n",
              "    </tr>\n",
              "    <tr>\n",
              "      <th>2</th>\n",
              "      <td>0</td>\n",
              "      <td>0.000</td>\n",
              "      <td>0.0</td>\n",
              "      <td>0.0</td>\n",
              "      <td>0.0</td>\n",
              "      <td>0.0</td>\n",
              "      <td>0.000151</td>\n",
              "      <td>0.000086</td>\n",
              "      <td>0.999914</td>\n",
              "      <td>0.040928</td>\n",
              "      <td>...</td>\n",
              "      <td>0.900114</td>\n",
              "      <td>0.845778</td>\n",
              "      <td>0.029891</td>\n",
              "      <td>0.854184</td>\n",
              "      <td>0.003303</td>\n",
              "      <td>0.007041</td>\n",
              "      <td>0.999328</td>\n",
              "      <td>0.784346</td>\n",
              "      <td>0.733360</td>\n",
              "      <td>0.649689</td>\n",
              "    </tr>\n",
              "    <tr>\n",
              "      <th>3</th>\n",
              "      <td>1</td>\n",
              "      <td>0.000</td>\n",
              "      <td>0.0</td>\n",
              "      <td>1.0</td>\n",
              "      <td>0.0</td>\n",
              "      <td>0.0</td>\n",
              "      <td>0.000012</td>\n",
              "      <td>0.000002</td>\n",
              "      <td>0.999998</td>\n",
              "      <td>0.036828</td>\n",
              "      <td>...</td>\n",
              "      <td>0.901249</td>\n",
              "      <td>0.849539</td>\n",
              "      <td>0.036005</td>\n",
              "      <td>0.860812</td>\n",
              "      <td>0.002968</td>\n",
              "      <td>0.006074</td>\n",
              "      <td>0.999423</td>\n",
              "      <td>0.259826</td>\n",
              "      <td>0.742947</td>\n",
              "      <td>0.662039</td>\n",
              "    </tr>\n",
              "    <tr>\n",
              "      <th>4</th>\n",
              "      <td>0</td>\n",
              "      <td>1.000</td>\n",
              "      <td>0.0</td>\n",
              "      <td>0.0</td>\n",
              "      <td>0.0</td>\n",
              "      <td>0.0</td>\n",
              "      <td>0.000018</td>\n",
              "      <td>0.000022</td>\n",
              "      <td>0.999978</td>\n",
              "      <td>0.037781</td>\n",
              "      <td>...</td>\n",
              "      <td>0.880250</td>\n",
              "      <td>0.825842</td>\n",
              "      <td>0.047554</td>\n",
              "      <td>0.826015</td>\n",
              "      <td>0.004077</td>\n",
              "      <td>0.010093</td>\n",
              "      <td>0.998855</td>\n",
              "      <td>0.407085</td>\n",
              "      <td>0.739203</td>\n",
              "      <td>0.655289</td>\n",
              "    </tr>\n",
              "  </tbody>\n",
              "</table>\n",
              "<p>5 rows × 42 columns</p>\n",
              "</div>\n",
              "      <button class=\"colab-df-convert\" onclick=\"convertToInteractive('df-e8a795c1-bd26-4c7b-ab40-9ed2cc86c4ec')\"\n",
              "              title=\"Convert this dataframe to an interactive table.\"\n",
              "              style=\"display:none;\">\n",
              "        \n",
              "  <svg xmlns=\"http://www.w3.org/2000/svg\" height=\"24px\"viewBox=\"0 0 24 24\"\n",
              "       width=\"24px\">\n",
              "    <path d=\"M0 0h24v24H0V0z\" fill=\"none\"/>\n",
              "    <path d=\"M18.56 5.44l.94 2.06.94-2.06 2.06-.94-2.06-.94-.94-2.06-.94 2.06-2.06.94zm-11 1L8.5 8.5l.94-2.06 2.06-.94-2.06-.94L8.5 2.5l-.94 2.06-2.06.94zm10 10l.94 2.06.94-2.06 2.06-.94-2.06-.94-.94-2.06-.94 2.06-2.06.94z\"/><path d=\"M17.41 7.96l-1.37-1.37c-.4-.4-.92-.59-1.43-.59-.52 0-1.04.2-1.43.59L10.3 9.45l-7.72 7.72c-.78.78-.78 2.05 0 2.83L4 21.41c.39.39.9.59 1.41.59.51 0 1.02-.2 1.41-.59l7.78-7.78 2.81-2.81c.8-.78.8-2.07 0-2.86zM5.41 20L4 18.59l7.72-7.72 1.47 1.35L5.41 20z\"/>\n",
              "  </svg>\n",
              "      </button>\n",
              "      \n",
              "  <style>\n",
              "    .colab-df-container {\n",
              "      display:flex;\n",
              "      flex-wrap:wrap;\n",
              "      gap: 12px;\n",
              "    }\n",
              "\n",
              "    .colab-df-convert {\n",
              "      background-color: #E8F0FE;\n",
              "      border: none;\n",
              "      border-radius: 50%;\n",
              "      cursor: pointer;\n",
              "      display: none;\n",
              "      fill: #1967D2;\n",
              "      height: 32px;\n",
              "      padding: 0 0 0 0;\n",
              "      width: 32px;\n",
              "    }\n",
              "\n",
              "    .colab-df-convert:hover {\n",
              "      background-color: #E2EBFA;\n",
              "      box-shadow: 0px 1px 2px rgba(60, 64, 67, 0.3), 0px 1px 3px 1px rgba(60, 64, 67, 0.15);\n",
              "      fill: #174EA6;\n",
              "    }\n",
              "\n",
              "    [theme=dark] .colab-df-convert {\n",
              "      background-color: #3B4455;\n",
              "      fill: #D2E3FC;\n",
              "    }\n",
              "\n",
              "    [theme=dark] .colab-df-convert:hover {\n",
              "      background-color: #434B5C;\n",
              "      box-shadow: 0px 1px 3px 1px rgba(0, 0, 0, 0.15);\n",
              "      filter: drop-shadow(0px 1px 2px rgba(0, 0, 0, 0.3));\n",
              "      fill: #FFFFFF;\n",
              "    }\n",
              "  </style>\n",
              "\n",
              "      <script>\n",
              "        const buttonEl =\n",
              "          document.querySelector('#df-e8a795c1-bd26-4c7b-ab40-9ed2cc86c4ec button.colab-df-convert');\n",
              "        buttonEl.style.display =\n",
              "          google.colab.kernel.accessAllowed ? 'block' : 'none';\n",
              "\n",
              "        async function convertToInteractive(key) {\n",
              "          const element = document.querySelector('#df-e8a795c1-bd26-4c7b-ab40-9ed2cc86c4ec');\n",
              "          const dataTable =\n",
              "            await google.colab.kernel.invokeFunction('convertToInteractive',\n",
              "                                                     [key], {});\n",
              "          if (!dataTable) return;\n",
              "\n",
              "          const docLinkHtml = 'Like what you see? Visit the ' +\n",
              "            '<a target=\"_blank\" href=https://colab.research.google.com/notebooks/data_table.ipynb>data table notebook</a>'\n",
              "            + ' to learn more about interactive tables.';\n",
              "          element.innerHTML = '';\n",
              "          dataTable['output_type'] = 'display_data';\n",
              "          await google.colab.output.renderOutput(dataTable, element);\n",
              "          const docLink = document.createElement('div');\n",
              "          docLink.innerHTML = docLinkHtml;\n",
              "          element.appendChild(docLink);\n",
              "        }\n",
              "      </script>\n",
              "    </div>\n",
              "  </div>\n",
              "  "
            ]
          },
          "metadata": {},
          "execution_count": 61
        }
      ]
    },
    {
      "cell_type": "code",
      "source": [
        "#Baseline models\n",
        "from sklearn.linear_model import LogisticRegression\n",
        "import xgboost as xgb\n",
        "from sklearn.neighbors import KNeighborsClassifier\n",
        "from sklearn.linear_model import SGDClassifier\n",
        "from sklearn.svm import SVC\n",
        "\n",
        "from sklearn.model_selection import RepeatedKFold\n",
        "from sklearn.model_selection import cross_val_score\n",
        "\n",
        "\n",
        "xgb_clf = xgb.XGBClassifier()\n",
        "lr_clf = LogisticRegression(max_iter=500)\n",
        "knn_clf = KNeighborsClassifier()\n",
        "sgd_clf = SGDClassifier()\n",
        "svm_clf = SVC()"
      ],
      "metadata": {
        "id": "gjs5WGMCawnP"
      },
      "execution_count": 83,
      "outputs": []
    },
    {
      "cell_type": "code",
      "source": [
        "from sklearn.model_selection import train_test_split\n",
        "\n",
        "x_train, x_test, y_train, y_test = train_test_split(df, labels, train_size=0.8)"
      ],
      "metadata": {
        "id": "lCgCzFVBc1KE"
      },
      "execution_count": 63,
      "outputs": []
    },
    {
      "cell_type": "code",
      "source": [
        "#Baseline Score\n",
        "\n",
        "xgb_clf.fit(x_train, y_train)\n",
        "print(f\"XGB train score {xgb_clf.score(x_train, y_train)}\")\n",
        "print(f\"XGB test Score {xgb_clf.score(x_test, y_test)}\")\n",
        "print()\n",
        "\n",
        "lr_clf.fit(x_train, y_train)\n",
        "print(f\"lr train score {lr_clf.score(x_train, y_train)}\")\n",
        "print(f\"lr test Score {lr_clf.score(x_test, y_test)}\")\n",
        "print()\n",
        "\n",
        "knn_clf.fit(x_train, y_train)\n",
        "print(f\"knn train score {knn_clf.score(x_train, y_train)}\")\n",
        "print(f\"knn test Score {knn_clf.score(x_test, y_test)}\")\n",
        "print()\n",
        "\n",
        "sgd_clf.fit(x_train, y_train)\n",
        "print(f\"sgd train score {sgd_clf.score(x_train, y_train)}\")\n",
        "print(f\"sgd test Score {sgd_clf.score(x_test, y_test)}\")\n",
        "print()\n",
        "\n",
        "svm_clf.fit(x_train, y_train)\n",
        "print(f\"svm train score {svm_clf.score(x_train, y_train)}\")\n",
        "print(f\"svm test Score {svm_clf.score(x_test, y_test)}\")\n",
        "print()"
      ],
      "metadata": {
        "colab": {
          "base_uri": "https://localhost:8080/"
        },
        "id": "tiu4WN-1dHkR",
        "outputId": "ec9fdf0a-6b70-4b93-8b38-fac01bc031c1"
      },
      "execution_count": 70,
      "outputs": [
        {
          "output_type": "stream",
          "name": "stdout",
          "text": [
            "XGB train score 0.9407843137254902\n",
            "XGB test Score 0.9247255619445897\n",
            "\n",
            "lr train score 0.882483660130719\n",
            "lr test Score 0.8808154730789336\n",
            "\n",
            "knn train score 0.8963398692810457\n",
            "knn test Score 0.8572922111866179\n",
            "\n",
            "sgd train score 0.8558169934640523\n",
            "sgd test Score 0.8578149503397805\n",
            "\n",
            "svm train score 0.8515032679738562\n",
            "svm test Score 0.8557239937271301\n",
            "\n"
          ]
        }
      ]
    },
    {
      "cell_type": "code",
      "source": [
        "from sklearn.model_selection import GridSearchCV\n",
        "\n",
        "param_grid = {\n",
        "    \"max_depth\": [3,  9],\n",
        "    \"learning_rate\": [0.1, 0.05],\n",
        "    \"gamma\": [0, 0.25, 1],\n",
        "    \"subsample\": [0.8]\n",
        "}\n",
        "grid_cv = GridSearchCV(xgb_clf, param_grid, n_jobs=-1, cv=3)\n",
        "_ = grid_cv.fit(x_train, y_train)"
      ],
      "metadata": {
        "id": "XjZhfoPleJ3o"
      },
      "execution_count": 75,
      "outputs": []
    },
    {
      "cell_type": "code",
      "source": [
        "grid_cv.best_score_"
      ],
      "metadata": {
        "colab": {
          "base_uri": "https://localhost:8080/"
        },
        "id": "MdG151HqhVKs",
        "outputId": "219eab66-f1b6-41d3-e6dc-4cee4747aa0c"
      },
      "execution_count": 76,
      "outputs": [
        {
          "output_type": "execute_result",
          "data": {
            "text/plain": [
              "0.9245751633986927"
            ]
          },
          "metadata": {},
          "execution_count": 76
        }
      ]
    },
    {
      "cell_type": "code",
      "source": [
        "grid_cv.best_params_"
      ],
      "metadata": {
        "colab": {
          "base_uri": "https://localhost:8080/"
        },
        "id": "VEheaz5ehWnq",
        "outputId": "24398081-904b-49b7-cfe8-13c5b12dbc7b"
      },
      "execution_count": 77,
      "outputs": [
        {
          "output_type": "execute_result",
          "data": {
            "text/plain": [
              "{'gamma': 0, 'learning_rate': 0.1, 'max_depth': 9, 'subsample': 0.8}"
            ]
          },
          "metadata": {},
          "execution_count": 77
        }
      ]
    },
    {
      "cell_type": "code",
      "source": [
        "final_xgb_cl = xgb.XGBClassifier(objective='multi:softmax')\n",
        "final_xgb_cl.fit(x_train, y_train)\n",
        "final_xgb_cl.score(x_test, y_test)"
      ],
      "metadata": {
        "colab": {
          "base_uri": "https://localhost:8080/"
        },
        "id": "s4pxfz2zhXYz",
        "outputId": "6f871633-da42-4f02-b78c-a053ee153756"
      },
      "execution_count": 86,
      "outputs": [
        {
          "output_type": "execute_result",
          "data": {
            "text/plain": [
              "0.9247255619445897"
            ]
          },
          "metadata": {},
          "execution_count": 86
        }
      ]
    },
    {
      "cell_type": "code",
      "source": [
        "# evaluate a logistic regression model using repeated k-fold cross-validation\n",
        "from numpy import mean\n",
        "from numpy import std\n",
        "\n",
        "cv = RepeatedKFold(n_splits=10, n_repeats=3, random_state=1)\n",
        "# create model\n",
        "# evaluate model\n",
        "scores = cross_val_score(lr_clf, x_train, y_train, scoring='accuracy', cv=cv, n_jobs=-1)\n",
        "print('Accuracy: %.3f (%.3f)' % (mean(scores), std(scores)))"
      ],
      "metadata": {
        "colab": {
          "base_uri": "https://localhost:8080/"
        },
        "id": "U3YKQW3NsZfc",
        "outputId": "b4b80b04-d7f7-40ad-a950-138ef0015d2d"
      },
      "execution_count": 85,
      "outputs": [
        {
          "output_type": "stream",
          "name": "stdout",
          "text": [
            "Accuracy: 0.880 (0.013)\n"
          ]
        }
      ]
    },
    {
      "cell_type": "code",
      "source": [
        "from sklearn.metrics import confusion_matrix\n",
        "from sklearn.metrics import ConfusionMatrixDisplay\n",
        "\n",
        "predict = final_xgb_cl.predict(df)\n",
        "ConfusionMatrixDisplay(confusion_matrix(labels, predict)).plot()"
      ],
      "metadata": {
        "colab": {
          "base_uri": "https://localhost:8080/",
          "height": 296
        },
        "id": "wj6e8gTat95l",
        "outputId": "52bbc58b-8528-4871-e782-0e571605b14c"
      },
      "execution_count": 89,
      "outputs": [
        {
          "output_type": "execute_result",
          "data": {
            "text/plain": [
              "<sklearn.metrics._plot.confusion_matrix.ConfusionMatrixDisplay at 0x7f16c6c88dd0>"
            ]
          },
          "metadata": {},
          "execution_count": 89
        },
        {
          "output_type": "display_data",
          "data": {
            "text/plain": [
              "<Figure size 432x288 with 2 Axes>"
            ],
            "image/png": "[encoded data removed]"
          },
          "metadata": {
            "needs_background": "light"
          }
        }
      ]
    },
    {
      "cell_type": "code",
      "source": [
        "from sklearn.metrics import accuracy_score\n",
        "\n",
        "accuracy_score(labels, predict)"
      ],
      "metadata": {
        "colab": {
          "base_uri": "https://localhost:8080/"
        },
        "id": "DX0bkoLsvTWJ",
        "outputId": "04bc1484-8d6b-4907-ca19-9cd85e5d35f7"
      },
      "execution_count": 92,
      "outputs": [
        {
          "output_type": "execute_result",
          "data": {
            "text/plain": [
              "0.9375718916657952"
            ]
          },
          "metadata": {},
          "execution_count": 92
        }
      ]
    },
    {
      "cell_type": "markdown",
      "source": [
        "# Q.1 Why this particular algorithm?"
      ],
      "metadata": {
        "id": "WVk3qiF9yX2A"
      }
    },
    {
      "cell_type": "markdown",
      "source": [
        "Ans. I tried some selected algorithms to make a baseline mode. Among all of them XGB and LogisticRegression performed the best in terms of train as well as validation score"
      ],
      "metadata": {
        "id": "hA2ibn1JycGj"
      }
    },
    {
      "cell_type": "markdown",
      "source": [
        "# Q.2 What are the different tuning methods used for the algorithm?"
      ],
      "metadata": {
        "id": "P94RIJYgysZG"
      }
    },
    {
      "cell_type": "markdown",
      "source": [
        "Ans. I tried GridSearchCV to hypertune XGB"
      ],
      "metadata": {
        "id": "hU3wkhkDyzhJ"
      }
    },
    {
      "cell_type": "markdown",
      "source": [
        "# Q.3 Did you consider any other choice of algorithm?Why or why not?"
      ],
      "metadata": {
        "id": "ceuHD3Lny76t"
      }
    },
    {
      "cell_type": "markdown",
      "source": [
        "Ans. Yes, I considered Logistic regression, but XGB was performing better then LR I sticked to XGB.\n",
        "The reason for considering another algorithm is because it was giving promising results, so I though with some tuning it might perform well than XGB."
      ],
      "metadata": {
        "id": "xt-FlmFkzAHA"
      }
    },
    {
      "cell_type": "markdown",
      "source": [
        "# Q.4 What is the accuracy?"
      ],
      "metadata": {
        "id": "qU_00EZozIHA"
      }
    },
    {
      "cell_type": "markdown",
      "source": [
        "Ans. 0.9375718916657952"
      ],
      "metadata": {
        "id": "H8AwMzeVzbXE"
      }
    },
    {
      "cell_type": "markdown",
      "source": [
        "# Q.5 What are the different types of metrics that can be used to evaluate the model?\n"
      ],
      "metadata": {
        "id": "8S5IIdd6zglR"
      }
    },
    {
      "cell_type": "markdown",
      "source": [
        "Ans. \n",
        "\n",
        "*   Confusion matrix\n",
        "*   Presision\n",
        "*Recall\n",
        "*F1 scoree\n",
        "*AUC ROC curves\n",
        "\n",
        "\n",
        "\n",
        "\n"
      ],
      "metadata": {
        "id": "UL5sUl9Ezkdb"
      }
    },
    {
      "cell_type": "code",
      "source": [],
      "metadata": {
        "id": "AvA3kA4c0CBv"
      },
      "execution_count": null,
      "outputs": []
    }
  ]
}